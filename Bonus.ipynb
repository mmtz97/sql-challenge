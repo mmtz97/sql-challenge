{
 "cells": [
  {
   "cell_type": "code",
   "execution_count": null,
   "id": "33f20c58",
   "metadata": {
    "scrolled": true
   },
   "outputs": [],
   "source": [
    "import pandas as pd\n",
    "from sqlalchemy import create_engine\n",
    "import matplotlib.pyplot as plt"
   ]
  },
  {
   "cell_type": "code",
   "execution_count": null,
   "id": "8c11491a",
   "metadata": {},
   "outputs": [],
   "source": [
    "from sqlalchemy import create_engine\n",
    "engine = create_engine('postgresql://localhost:5432/<your_db_name>')\n",
    "connection = engine.connect()"
   ]
  },
  {
   "cell_type": "code",
   "execution_count": null,
   "id": "6153165f",
   "metadata": {},
   "outputs": [],
   "source": [
    "query = 'select * from titles'\n",
    "df_emp_titles = pd.read_sql_query(query, con=engine)\n",
    "df_emp_titles"
   ]
  },
  {
   "cell_type": "code",
   "execution_count": null,
   "id": "857a1503",
   "metadata": {},
   "outputs": [],
   "source": [
    "query = 'select * from salaries'\n",
    "df_salaries = pd.read_sql_query(query, con=engine)\n",
    "df_salaries"
   ]
  },
  {
   "cell_type": "code",
   "execution_count": null,
   "id": "33e0db60",
   "metadata": {},
   "outputs": [],
   "source": [
    "merged = pd.merge(df_titles,df_salaries,on='emp_no')\n",
    "merged.head()"
   ]
  },
  {
   "cell_type": "code",
   "execution_count": null,
   "id": "6eb329e6",
   "metadata": {},
   "outputs": [],
   "source": [
    "merged_drop = merged.drop(columns =['emp_no','from_date_x','to_date_x','from_date_y','to_date_y'])\n",
    "grouped_df = merged_drop.groupby('title').mean()\n",
    "grouped_df"
   ]
  },
  {
   "cell_type": "code",
   "execution_count": null,
   "id": "c26c8d7d",
   "metadata": {},
   "outputs": [],
   "source": [
    "plt.hist(df['salary'])\n",
    "df.hist(grid=True, bins=9)\n",
    "plt.xlabel('Employees')\n",
    "plt.ylabel('Common Salary')\n",
    "plt.title('Common Salary for Employees',size=13)\n",
    "plt.grid()\n",
    "plt.savefig('Images/CommonSalaryforEmployees')"
   ]
  },
  {
   "cell_type": "code",
   "execution_count": null,
   "id": "a12e89e4",
   "metadata": {},
   "outputs": [],
   "source": [
    "plt.figure(figsize=(10,6))\n",
    "plt.bar(grouped_df.index,grouped_df['salary'])\n",
    "plt.xlabel('Job Title')\n",
    "plt.ylabel('Average Salary ($)')\n",
    "plt.title('Average Salary by Job Title',size=13)\n",
    "plt.grid()\n",
    "plt.savefig('Images/AvgSalarybyTitle.png')"
   ]
  }
 ],
 "metadata": {
  "kernelspec": {
   "display_name": "Python 3 (ipykernel)",
   "language": "python",
   "name": "python3"
  },
  "language_info": {
   "codemirror_mode": {
    "name": "ipython",
    "version": 3
   },
   "file_extension": ".py",
   "mimetype": "text/x-python",
   "name": "python",
   "nbconvert_exporter": "python",
   "pygments_lexer": "ipython3",
   "version": "3.9.7"
  }
 },
 "nbformat": 4,
 "nbformat_minor": 5
}
